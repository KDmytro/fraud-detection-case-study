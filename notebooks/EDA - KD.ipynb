{
 "cells": [
  {
   "cell_type": "code",
   "execution_count": 35,
   "metadata": {
    "collapsed": true
   },
   "outputs": [],
   "source": [
    "import pandas as pd\n",
    "import numpy as np\n",
    "import matplotlib.pyplot as plt\n",
    "%matplotlib inline  "
   ]
  },
  {
   "cell_type": "code",
   "execution_count": 2,
   "metadata": {
    "collapsed": false
   },
   "outputs": [
    {
     "data": {
      "text/plain": [
       "u'/Users/kdmytro/Studies/fraud-detection-case-study/notebooks'"
      ]
     },
     "execution_count": 2,
     "metadata": {},
     "output_type": "execute_result"
    }
   ],
   "source": [
    "pwd"
   ]
  },
  {
   "cell_type": "code",
   "execution_count": 3,
   "metadata": {
    "collapsed": true
   },
   "outputs": [],
   "source": [
    "example_df = pd.read_json(\"../data/raw/example.json\")"
   ]
  },
  {
   "cell_type": "code",
   "execution_count": 4,
   "metadata": {
    "collapsed": false
   },
   "outputs": [
    {
     "name": "stdout",
     "output_type": "stream",
     "text": [
      "<class 'pandas.core.frame.DataFrame'>\n",
      "Int64Index: 1 entries, 0 to 0\n",
      "Data columns (total 43 columns):\n",
      "approx_payout_date    1 non-null int64\n",
      "body_length           1 non-null int64\n",
      "channels              1 non-null int64\n",
      "country               1 non-null object\n",
      "currency              1 non-null object\n",
      "delivery_method       1 non-null int64\n",
      "description           1 non-null object\n",
      "email_domain          1 non-null object\n",
      "event_created         1 non-null int64\n",
      "event_end             1 non-null int64\n",
      "event_published       1 non-null int64\n",
      "event_start           1 non-null int64\n",
      "fb_published          1 non-null int64\n",
      "gts                   1 non-null float64\n",
      "has_analytics         1 non-null int64\n",
      "has_header            0 non-null float64\n",
      "has_logo              1 non-null int64\n",
      "listed                1 non-null object\n",
      "name                  1 non-null object\n",
      "name_length           1 non-null int64\n",
      "num_order             1 non-null int64\n",
      "num_payouts           1 non-null int64\n",
      "object_id             1 non-null int64\n",
      "org_desc              1 non-null object\n",
      "org_facebook          1 non-null int64\n",
      "org_name              1 non-null object\n",
      "org_twitter           1 non-null int64\n",
      "payee_name            1 non-null object\n",
      "payout_type           1 non-null object\n",
      "previous_payouts      1 non-null object\n",
      "sale_duration         1 non-null int64\n",
      "sale_duration2        1 non-null int64\n",
      "show_map              1 non-null int64\n",
      "ticket_types          1 non-null object\n",
      "user_age              1 non-null int64\n",
      "user_created          1 non-null int64\n",
      "user_type             1 non-null int64\n",
      "venue_address         1 non-null object\n",
      "venue_country         1 non-null object\n",
      "venue_latitude        1 non-null float64\n",
      "venue_longitude       1 non-null float64\n",
      "venue_name            1 non-null object\n",
      "venue_state           1 non-null object\n",
      "dtypes: float64(4), int64(23), object(16)\n",
      "memory usage: 352.0+ bytes\n"
     ]
    }
   ],
   "source": [
    "example_df.info()"
   ]
  },
  {
   "cell_type": "code",
   "execution_count": 6,
   "metadata": {
    "collapsed": false
   },
   "outputs": [
    {
     "data": {
      "text/html": [
       "<div>\n",
       "<table border=\"1\" class=\"dataframe\">\n",
       "  <thead>\n",
       "    <tr style=\"text-align: right;\">\n",
       "      <th></th>\n",
       "      <th>0</th>\n",
       "    </tr>\n",
       "  </thead>\n",
       "  <tbody>\n",
       "    <tr>\n",
       "      <th>approx_payout_date</th>\n",
       "      <td>1364360400</td>\n",
       "    </tr>\n",
       "    <tr>\n",
       "      <th>body_length</th>\n",
       "      <td>1474</td>\n",
       "    </tr>\n",
       "    <tr>\n",
       "      <th>channels</th>\n",
       "      <td>11</td>\n",
       "    </tr>\n",
       "    <tr>\n",
       "      <th>country</th>\n",
       "      <td>US</td>\n",
       "    </tr>\n",
       "    <tr>\n",
       "      <th>currency</th>\n",
       "      <td>USD</td>\n",
       "    </tr>\n",
       "    <tr>\n",
       "      <th>delivery_method</th>\n",
       "      <td>0</td>\n",
       "    </tr>\n",
       "    <tr>\n",
       "      <th>description</th>\n",
       "      <td>&lt;p&gt;&lt;span style=\"font-size: medium; font-family...</td>\n",
       "    </tr>\n",
       "    <tr>\n",
       "      <th>email_domain</th>\n",
       "      <td>dreamprojectfoundation.org</td>\n",
       "    </tr>\n",
       "    <tr>\n",
       "      <th>event_created</th>\n",
       "      <td>1361291193</td>\n",
       "    </tr>\n",
       "    <tr>\n",
       "      <th>event_end</th>\n",
       "      <td>1363928400</td>\n",
       "    </tr>\n",
       "    <tr>\n",
       "      <th>event_published</th>\n",
       "      <td>1361978554</td>\n",
       "    </tr>\n",
       "    <tr>\n",
       "      <th>event_start</th>\n",
       "      <td>1363914000</td>\n",
       "    </tr>\n",
       "    <tr>\n",
       "      <th>fb_published</th>\n",
       "      <td>0</td>\n",
       "    </tr>\n",
       "    <tr>\n",
       "      <th>gts</th>\n",
       "      <td>537.4</td>\n",
       "    </tr>\n",
       "    <tr>\n",
       "      <th>has_analytics</th>\n",
       "      <td>0</td>\n",
       "    </tr>\n",
       "    <tr>\n",
       "      <th>has_header</th>\n",
       "      <td>NaN</td>\n",
       "    </tr>\n",
       "    <tr>\n",
       "      <th>has_logo</th>\n",
       "      <td>1</td>\n",
       "    </tr>\n",
       "    <tr>\n",
       "      <th>listed</th>\n",
       "      <td>y</td>\n",
       "    </tr>\n",
       "    <tr>\n",
       "      <th>name</th>\n",
       "      <td>DREAM Project Foundation - Taste of a Better F...</td>\n",
       "    </tr>\n",
       "    <tr>\n",
       "      <th>name_length</th>\n",
       "      <td>51</td>\n",
       "    </tr>\n",
       "    <tr>\n",
       "      <th>num_order</th>\n",
       "      <td>7</td>\n",
       "    </tr>\n",
       "    <tr>\n",
       "      <th>num_payouts</th>\n",
       "      <td>0</td>\n",
       "    </tr>\n",
       "    <tr>\n",
       "      <th>object_id</th>\n",
       "      <td>5558108</td>\n",
       "    </tr>\n",
       "    <tr>\n",
       "      <th>org_desc</th>\n",
       "      <td></td>\n",
       "    </tr>\n",
       "    <tr>\n",
       "      <th>org_facebook</th>\n",
       "      <td>13</td>\n",
       "    </tr>\n",
       "    <tr>\n",
       "      <th>org_name</th>\n",
       "      <td>DREAM Project Foundation</td>\n",
       "    </tr>\n",
       "    <tr>\n",
       "      <th>org_twitter</th>\n",
       "      <td>13</td>\n",
       "    </tr>\n",
       "    <tr>\n",
       "      <th>payee_name</th>\n",
       "      <td></td>\n",
       "    </tr>\n",
       "    <tr>\n",
       "      <th>payout_type</th>\n",
       "      <td>ACH</td>\n",
       "    </tr>\n",
       "    <tr>\n",
       "      <th>previous_payouts</th>\n",
       "      <td>{u'name': u'', u'created': u'2013-04-19 03:25:...</td>\n",
       "    </tr>\n",
       "    <tr>\n",
       "      <th>sale_duration</th>\n",
       "      <td>22</td>\n",
       "    </tr>\n",
       "    <tr>\n",
       "      <th>sale_duration2</th>\n",
       "      <td>30</td>\n",
       "    </tr>\n",
       "    <tr>\n",
       "      <th>show_map</th>\n",
       "      <td>1</td>\n",
       "    </tr>\n",
       "    <tr>\n",
       "      <th>ticket_types</th>\n",
       "      <td>{u'event_id': 5558108, u'cost': 50.0, u'availa...</td>\n",
       "    </tr>\n",
       "    <tr>\n",
       "      <th>user_age</th>\n",
       "      <td>0</td>\n",
       "    </tr>\n",
       "    <tr>\n",
       "      <th>user_created</th>\n",
       "      <td>1361290985</td>\n",
       "    </tr>\n",
       "    <tr>\n",
       "      <th>user_type</th>\n",
       "      <td>1</td>\n",
       "    </tr>\n",
       "    <tr>\n",
       "      <th>venue_address</th>\n",
       "      <td>1 Ionia Avenue Southwest</td>\n",
       "    </tr>\n",
       "    <tr>\n",
       "      <th>venue_country</th>\n",
       "      <td>US</td>\n",
       "    </tr>\n",
       "    <tr>\n",
       "      <th>venue_latitude</th>\n",
       "      <td>42.9631</td>\n",
       "    </tr>\n",
       "    <tr>\n",
       "      <th>venue_longitude</th>\n",
       "      <td>-85.6706</td>\n",
       "    </tr>\n",
       "    <tr>\n",
       "      <th>venue_name</th>\n",
       "      <td>Grand Rapids Brewing Co</td>\n",
       "    </tr>\n",
       "    <tr>\n",
       "      <th>venue_state</th>\n",
       "      <td>MI</td>\n",
       "    </tr>\n",
       "  </tbody>\n",
       "</table>\n",
       "</div>"
      ],
      "text/plain": [
       "                                                                    0\n",
       "approx_payout_date                                         1364360400\n",
       "body_length                                                      1474\n",
       "channels                                                           11\n",
       "country                                                            US\n",
       "currency                                                          USD\n",
       "delivery_method                                                     0\n",
       "description         <p><span style=\"font-size: medium; font-family...\n",
       "email_domain                               dreamprojectfoundation.org\n",
       "event_created                                              1361291193\n",
       "event_end                                                  1363928400\n",
       "event_published                                            1361978554\n",
       "event_start                                                1363914000\n",
       "fb_published                                                        0\n",
       "gts                                                             537.4\n",
       "has_analytics                                                       0\n",
       "has_header                                                        NaN\n",
       "has_logo                                                            1\n",
       "listed                                                              y\n",
       "name                DREAM Project Foundation - Taste of a Better F...\n",
       "name_length                                                        51\n",
       "num_order                                                           7\n",
       "num_payouts                                                         0\n",
       "object_id                                                     5558108\n",
       "org_desc                                                             \n",
       "org_facebook                                                       13\n",
       "org_name                                     DREAM Project Foundation\n",
       "org_twitter                                                        13\n",
       "payee_name                                                           \n",
       "payout_type                                                       ACH\n",
       "previous_payouts    {u'name': u'', u'created': u'2013-04-19 03:25:...\n",
       "sale_duration                                                      22\n",
       "sale_duration2                                                     30\n",
       "show_map                                                            1\n",
       "ticket_types        {u'event_id': 5558108, u'cost': 50.0, u'availa...\n",
       "user_age                                                            0\n",
       "user_created                                               1361290985\n",
       "user_type                                                           1\n",
       "venue_address                                1 Ionia Avenue Southwest\n",
       "venue_country                                                      US\n",
       "venue_latitude                                                42.9631\n",
       "venue_longitude                                              -85.6706\n",
       "venue_name                                    Grand Rapids Brewing Co\n",
       "venue_state                                                        MI"
      ]
     },
     "execution_count": 6,
     "metadata": {},
     "output_type": "execute_result"
    }
   ],
   "source": [
    "example_df.head().T"
   ]
  },
  {
   "cell_type": "code",
   "execution_count": 9,
   "metadata": {
    "collapsed": true
   },
   "outputs": [],
   "source": [
    "df = pd.read_json(\"../data/raw/data.json\")"
   ]
  },
  {
   "cell_type": "code",
   "execution_count": 10,
   "metadata": {
    "collapsed": false
   },
   "outputs": [
    {
     "name": "stdout",
     "output_type": "stream",
     "text": [
      "<class 'pandas.core.frame.DataFrame'>\n",
      "Int64Index: 14337 entries, 0 to 14336\n",
      "Data columns (total 44 columns):\n",
      "acct_type             14337 non-null object\n",
      "approx_payout_date    14337 non-null int64\n",
      "body_length           14337 non-null int64\n",
      "channels              14337 non-null int64\n",
      "country               14256 non-null object\n",
      "currency              14337 non-null object\n",
      "delivery_method       14321 non-null float64\n",
      "description           14337 non-null object\n",
      "email_domain          14337 non-null object\n",
      "event_created         14337 non-null int64\n",
      "event_end             14337 non-null int64\n",
      "event_published       14238 non-null float64\n",
      "event_start           14337 non-null int64\n",
      "fb_published          14337 non-null int64\n",
      "gts                   14337 non-null float64\n",
      "has_analytics         14337 non-null int64\n",
      "has_header            8928 non-null float64\n",
      "has_logo              14337 non-null int64\n",
      "listed                14337 non-null object\n",
      "name                  14337 non-null object\n",
      "name_length           14337 non-null int64\n",
      "num_order             14337 non-null int64\n",
      "num_payouts           14337 non-null int64\n",
      "object_id             14337 non-null int64\n",
      "org_desc              14337 non-null object\n",
      "org_facebook          14278 non-null float64\n",
      "org_name              14337 non-null object\n",
      "org_twitter           14278 non-null float64\n",
      "payee_name            14337 non-null object\n",
      "payout_type           14337 non-null object\n",
      "previous_payouts      14337 non-null object\n",
      "sale_duration         14182 non-null float64\n",
      "sale_duration2        14337 non-null int64\n",
      "show_map              14337 non-null int64\n",
      "ticket_types          14337 non-null object\n",
      "user_age              14337 non-null int64\n",
      "user_created          14337 non-null int64\n",
      "user_type             14337 non-null int64\n",
      "venue_address         14337 non-null object\n",
      "venue_country         13261 non-null object\n",
      "venue_latitude        13261 non-null float64\n",
      "venue_longitude       13261 non-null float64\n",
      "venue_name            13261 non-null object\n",
      "venue_state           13261 non-null object\n",
      "dtypes: float64(9), int64(18), object(17)\n",
      "memory usage: 4.9+ MB\n"
     ]
    }
   ],
   "source": [
    "df.info()"
   ]
  },
  {
   "cell_type": "code",
   "execution_count": 15,
   "metadata": {
    "collapsed": false
   },
   "outputs": [
    {
     "data": {
      "text/plain": [
       "array([u'fraudster_event', u'premium', u'spammer_warn', u'fraudster',\n",
       "       u'spammer_limited', u'spammer_noinvite', u'locked', u'tos_lock',\n",
       "       u'tos_warn', u'fraudster_att', u'spammer_web', u'spammer'], dtype=object)"
      ]
     },
     "execution_count": 15,
     "metadata": {},
     "output_type": "execute_result"
    }
   ],
   "source": [
    "df.acct_type.unique()"
   ]
  },
  {
   "cell_type": "code",
   "execution_count": 24,
   "metadata": {
    "collapsed": false
   },
   "outputs": [
    {
     "data": {
      "text/plain": [
       "acct_type\n",
       "premium             12373\n",
       "fraudster_event       851\n",
       "fraudster             437\n",
       "spammer_limited       218\n",
       "spammer_warn          144\n",
       "tos_warn               91\n",
       "spammer_noinvite       84\n",
       "tos_lock               77\n",
       "locked                 54\n",
       "fraudster_att           5\n",
       "spammer_web             2\n",
       "spammer                 1\n",
       "Name: description, dtype: int64"
      ]
     },
     "execution_count": 24,
     "metadata": {},
     "output_type": "execute_result"
    }
   ],
   "source": [
    "df.groupby(\"acct_type\").count()['description'].sort_values(ascending=False)"
   ]
  },
  {
   "cell_type": "code",
   "execution_count": 26,
   "metadata": {
    "collapsed": false
   },
   "outputs": [],
   "source": [
    "plt.style.use('ggplot')"
   ]
  },
  {
   "cell_type": "code",
   "execution_count": 40,
   "metadata": {
    "collapsed": false
   },
   "outputs": [
    {
     "data": {
      "text/plain": [
       "[<matplotlib.text.Text at 0x11170ba90>,\n",
       " <matplotlib.text.Text at 0x1117311d0>,\n",
       " <matplotlib.text.Text at 0x1119fa150>,\n",
       " <matplotlib.text.Text at 0x1119fa890>,\n",
       " <matplotlib.text.Text at 0x1119fafd0>,\n",
       " <matplotlib.text.Text at 0x1119fc750>,\n",
       " <matplotlib.text.Text at 0x1119fcc50>,\n",
       " <matplotlib.text.Text at 0x111a01390>,\n",
       " <matplotlib.text.Text at 0x111bcc4d0>,\n",
       " <matplotlib.text.Text at 0x111bcca10>,\n",
       " <matplotlib.text.Text at 0x111bcf190>,\n",
       " <matplotlib.text.Text at 0x111bcf8d0>]"
      ]
     },
     "execution_count": 40,
     "metadata": {},
     "output_type": "execute_result"
    },
    {
     "data": {
      "image/png": "[encoded data removed]",
      "text/plain": [
       "<matplotlib.figure.Figure at 0x111986a50>"
      ]
     },
     "metadata": {},
     "output_type": "display_data"
    }
   ],
   "source": [
    "acct_types = df.groupby(\"acct_type\").count()['description'].sort_values(ascending=False)\n",
    "fig = plt.figure()\n",
    "ax = acct_types.plot(kind='bar')\n",
    "# plt.bar(np.arange(len(acct_types)),acct_types.values)\n",
    "ax.set_xticklabels(acct_types.index)"
   ]
  },
  {
   "cell_type": "code",
   "execution_count": 41,
   "metadata": {
    "collapsed": false
   },
   "outputs": [
    {
     "data": {
      "text/html": [
       "<div>\n",
       "<table border=\"1\" class=\"dataframe\">\n",
       "  <thead>\n",
       "    <tr style=\"text-align: right;\">\n",
       "      <th></th>\n",
       "      <th>0</th>\n",
       "      <th>1</th>\n",
       "      <th>2</th>\n",
       "    </tr>\n",
       "  </thead>\n",
       "  <tbody>\n",
       "    <tr>\n",
       "      <th>acct_type</th>\n",
       "      <td>fraudster_event</td>\n",
       "      <td>premium</td>\n",
       "      <td>premium</td>\n",
       "    </tr>\n",
       "    <tr>\n",
       "      <th>approx_payout_date</th>\n",
       "      <td>1266062400</td>\n",
       "      <td>1296720000</td>\n",
       "      <td>1296172800</td>\n",
       "    </tr>\n",
       "    <tr>\n",
       "      <th>body_length</th>\n",
       "      <td>3852</td>\n",
       "      <td>3499</td>\n",
       "      <td>2601</td>\n",
       "    </tr>\n",
       "    <tr>\n",
       "      <th>channels</th>\n",
       "      <td>5</td>\n",
       "      <td>0</td>\n",
       "      <td>8</td>\n",
       "    </tr>\n",
       "    <tr>\n",
       "      <th>country</th>\n",
       "      <td>US</td>\n",
       "      <td>US</td>\n",
       "      <td>US</td>\n",
       "    </tr>\n",
       "    <tr>\n",
       "      <th>currency</th>\n",
       "      <td>USD</td>\n",
       "      <td>USD</td>\n",
       "      <td>USD</td>\n",
       "    </tr>\n",
       "    <tr>\n",
       "      <th>delivery_method</th>\n",
       "      <td>0</td>\n",
       "      <td>1</td>\n",
       "      <td>1</td>\n",
       "    </tr>\n",
       "    <tr>\n",
       "      <th>description</th>\n",
       "      <td>&lt;p&gt;&lt;a href=\"http://s432.photobucket.com/albums...</td>\n",
       "      <td>&lt;p&gt;Join us for a quick, one-night, community-b...</td>\n",
       "      <td>&lt;h3&gt;&lt;span class=\"subcategory\"&gt;&lt;strong&gt;Teacher ...</td>\n",
       "    </tr>\n",
       "    <tr>\n",
       "      <th>email_domain</th>\n",
       "      <td>gmail.com</td>\n",
       "      <td>ruf.org</td>\n",
       "      <td>pvsd.k12.ca.us</td>\n",
       "    </tr>\n",
       "    <tr>\n",
       "      <th>event_created</th>\n",
       "      <td>1262739706</td>\n",
       "      <td>1293832670</td>\n",
       "      <td>1291090956</td>\n",
       "    </tr>\n",
       "    <tr>\n",
       "      <th>event_end</th>\n",
       "      <td>1265630400</td>\n",
       "      <td>1296288000</td>\n",
       "      <td>1295740800</td>\n",
       "    </tr>\n",
       "    <tr>\n",
       "      <th>event_published</th>\n",
       "      <td>1.26311e+09</td>\n",
       "      <td>1.29383e+09</td>\n",
       "      <td>1.29109e+09</td>\n",
       "    </tr>\n",
       "    <tr>\n",
       "      <th>event_start</th>\n",
       "      <td>1265594400</td>\n",
       "      <td>1296255600</td>\n",
       "      <td>1295713800</td>\n",
       "    </tr>\n",
       "    <tr>\n",
       "      <th>fb_published</th>\n",
       "      <td>0</td>\n",
       "      <td>0</td>\n",
       "      <td>0</td>\n",
       "    </tr>\n",
       "    <tr>\n",
       "      <th>gts</th>\n",
       "      <td>0</td>\n",
       "      <td>868.02</td>\n",
       "      <td>3500</td>\n",
       "    </tr>\n",
       "    <tr>\n",
       "      <th>has_analytics</th>\n",
       "      <td>0</td>\n",
       "      <td>0</td>\n",
       "      <td>0</td>\n",
       "    </tr>\n",
       "    <tr>\n",
       "      <th>has_header</th>\n",
       "      <td>1</td>\n",
       "      <td>0</td>\n",
       "      <td>NaN</td>\n",
       "    </tr>\n",
       "    <tr>\n",
       "      <th>has_logo</th>\n",
       "      <td>0</td>\n",
       "      <td>1</td>\n",
       "      <td>0</td>\n",
       "    </tr>\n",
       "    <tr>\n",
       "      <th>listed</th>\n",
       "      <td>y</td>\n",
       "      <td>n</td>\n",
       "      <td>y</td>\n",
       "    </tr>\n",
       "    <tr>\n",
       "      <th>name</th>\n",
       "      <td>99 HOUR \"NO SLEEP\" SUPER BOWL CELEBRITY WEEKEN...</td>\n",
       "      <td>Winthrop RUF Winter Getaway</td>\n",
       "      <td>DRDP (2010) Teacher Training</td>\n",
       "    </tr>\n",
       "    <tr>\n",
       "      <th>name_length</th>\n",
       "      <td>60</td>\n",
       "      <td>27</td>\n",
       "      <td>28</td>\n",
       "    </tr>\n",
       "    <tr>\n",
       "      <th>num_order</th>\n",
       "      <td>0</td>\n",
       "      <td>23</td>\n",
       "      <td>19</td>\n",
       "    </tr>\n",
       "    <tr>\n",
       "      <th>num_payouts</th>\n",
       "      <td>0</td>\n",
       "      <td>1</td>\n",
       "      <td>4</td>\n",
       "    </tr>\n",
       "    <tr>\n",
       "      <th>object_id</th>\n",
       "      <td>527017</td>\n",
       "      <td>786878</td>\n",
       "      <td>787337</td>\n",
       "    </tr>\n",
       "    <tr>\n",
       "      <th>org_desc</th>\n",
       "      <td></td>\n",
       "      <td>&lt;p&gt;Since 1987, RUF has ministered to students ...</td>\n",
       "      <td>&lt;p&gt;&lt;a href=\"http://www.desiredresults.com\"&gt;www...</td>\n",
       "    </tr>\n",
       "    <tr>\n",
       "      <th>org_facebook</th>\n",
       "      <td>0</td>\n",
       "      <td>0</td>\n",
       "      <td>0</td>\n",
       "    </tr>\n",
       "    <tr>\n",
       "      <th>org_name</th>\n",
       "      <td>Party Starz Ent &amp; Diverse Int'l Group</td>\n",
       "      <td>RUF at Winthrop University</td>\n",
       "      <td>University Preparation School in collaboration...</td>\n",
       "    </tr>\n",
       "    <tr>\n",
       "      <th>org_twitter</th>\n",
       "      <td>0</td>\n",
       "      <td>12</td>\n",
       "      <td>0</td>\n",
       "    </tr>\n",
       "    <tr>\n",
       "      <th>payee_name</th>\n",
       "      <td></td>\n",
       "      <td>RUF</td>\n",
       "      <td>University Preparation School</td>\n",
       "    </tr>\n",
       "    <tr>\n",
       "      <th>payout_type</th>\n",
       "      <td></td>\n",
       "      <td>CHECK</td>\n",
       "      <td>CHECK</td>\n",
       "    </tr>\n",
       "    <tr>\n",
       "      <th>previous_payouts</th>\n",
       "      <td>[]</td>\n",
       "      <td>[{u'name': u'RUF', u'created': u'2010-10-01 01...</td>\n",
       "      <td>[{u'name': u'Danielle Severn', u'created': u'2...</td>\n",
       "    </tr>\n",
       "    <tr>\n",
       "      <th>sale_duration</th>\n",
       "      <td>29</td>\n",
       "      <td>28</td>\n",
       "      <td>54</td>\n",
       "    </tr>\n",
       "    <tr>\n",
       "      <th>sale_duration2</th>\n",
       "      <td>33</td>\n",
       "      <td>28</td>\n",
       "      <td>54</td>\n",
       "    </tr>\n",
       "    <tr>\n",
       "      <th>show_map</th>\n",
       "      <td>1</td>\n",
       "      <td>0</td>\n",
       "      <td>0</td>\n",
       "    </tr>\n",
       "    <tr>\n",
       "      <th>ticket_types</th>\n",
       "      <td>[{u'event_id': 527017, u'cost': 25.0, u'availa...</td>\n",
       "      <td>[{u'event_id': 786878, u'cost': 35.0, u'availa...</td>\n",
       "      <td>[{u'event_id': 787337, u'cost': 93.51, u'avail...</td>\n",
       "    </tr>\n",
       "    <tr>\n",
       "      <th>user_age</th>\n",
       "      <td>36</td>\n",
       "      <td>149</td>\n",
       "      <td>214</td>\n",
       "    </tr>\n",
       "    <tr>\n",
       "      <th>user_created</th>\n",
       "      <td>1259613950</td>\n",
       "      <td>1280942776</td>\n",
       "      <td>1272559388</td>\n",
       "    </tr>\n",
       "    <tr>\n",
       "      <th>user_type</th>\n",
       "      <td>1</td>\n",
       "      <td>3</td>\n",
       "      <td>3</td>\n",
       "    </tr>\n",
       "    <tr>\n",
       "      <th>venue_address</th>\n",
       "      <td>717 Washington Avenue</td>\n",
       "      <td></td>\n",
       "      <td>10100 Pioneer Blvd Suite 100</td>\n",
       "    </tr>\n",
       "    <tr>\n",
       "      <th>venue_country</th>\n",
       "      <td>US</td>\n",
       "      <td>US</td>\n",
       "      <td>US</td>\n",
       "    </tr>\n",
       "    <tr>\n",
       "      <th>venue_latitude</th>\n",
       "      <td>25.7775</td>\n",
       "      <td>32.7766</td>\n",
       "      <td>33.9442</td>\n",
       "    </tr>\n",
       "    <tr>\n",
       "      <th>venue_longitude</th>\n",
       "      <td>-80.1334</td>\n",
       "      <td>-79.9309</td>\n",
       "      <td>-118.08</td>\n",
       "    </tr>\n",
       "    <tr>\n",
       "      <th>venue_name</th>\n",
       "      <td>INK Nightclub - South Beach</td>\n",
       "      <td>The Charleston, SC area</td>\n",
       "      <td>Los Angeles County Office of Education</td>\n",
       "    </tr>\n",
       "    <tr>\n",
       "      <th>venue_state</th>\n",
       "      <td>FL</td>\n",
       "      <td>SC</td>\n",
       "      <td>CA</td>\n",
       "    </tr>\n",
       "  </tbody>\n",
       "</table>\n",
       "</div>"
      ],
      "text/plain": [
       "                                                                    0  \\\n",
       "acct_type                                             fraudster_event   \n",
       "approx_payout_date                                         1266062400   \n",
       "body_length                                                      3852   \n",
       "channels                                                            5   \n",
       "country                                                            US   \n",
       "currency                                                          USD   \n",
       "delivery_method                                                     0   \n",
       "description         <p><a href=\"http://s432.photobucket.com/albums...   \n",
       "email_domain                                                gmail.com   \n",
       "event_created                                              1262739706   \n",
       "event_end                                                  1265630400   \n",
       "event_published                                           1.26311e+09   \n",
       "event_start                                                1265594400   \n",
       "fb_published                                                        0   \n",
       "gts                                                                 0   \n",
       "has_analytics                                                       0   \n",
       "has_header                                                          1   \n",
       "has_logo                                                            0   \n",
       "listed                                                              y   \n",
       "name                99 HOUR \"NO SLEEP\" SUPER BOWL CELEBRITY WEEKEN...   \n",
       "name_length                                                        60   \n",
       "num_order                                                           0   \n",
       "num_payouts                                                         0   \n",
       "object_id                                                      527017   \n",
       "org_desc                                                                \n",
       "org_facebook                                                        0   \n",
       "org_name                        Party Starz Ent & Diverse Int'l Group   \n",
       "org_twitter                                                         0   \n",
       "payee_name                                                              \n",
       "payout_type                                                             \n",
       "previous_payouts                                                   []   \n",
       "sale_duration                                                      29   \n",
       "sale_duration2                                                     33   \n",
       "show_map                                                            1   \n",
       "ticket_types        [{u'event_id': 527017, u'cost': 25.0, u'availa...   \n",
       "user_age                                                           36   \n",
       "user_created                                               1259613950   \n",
       "user_type                                                           1   \n",
       "venue_address                                   717 Washington Avenue   \n",
       "venue_country                                                      US   \n",
       "venue_latitude                                                25.7775   \n",
       "venue_longitude                                              -80.1334   \n",
       "venue_name                                INK Nightclub - South Beach   \n",
       "venue_state                                                        FL   \n",
       "\n",
       "                                                                    1  \\\n",
       "acct_type                                                     premium   \n",
       "approx_payout_date                                         1296720000   \n",
       "body_length                                                      3499   \n",
       "channels                                                            0   \n",
       "country                                                            US   \n",
       "currency                                                          USD   \n",
       "delivery_method                                                     1   \n",
       "description         <p>Join us for a quick, one-night, community-b...   \n",
       "email_domain                                                  ruf.org   \n",
       "event_created                                              1293832670   \n",
       "event_end                                                  1296288000   \n",
       "event_published                                           1.29383e+09   \n",
       "event_start                                                1296255600   \n",
       "fb_published                                                        0   \n",
       "gts                                                            868.02   \n",
       "has_analytics                                                       0   \n",
       "has_header                                                          0   \n",
       "has_logo                                                            1   \n",
       "listed                                                              n   \n",
       "name                                      Winthrop RUF Winter Getaway   \n",
       "name_length                                                        27   \n",
       "num_order                                                          23   \n",
       "num_payouts                                                         1   \n",
       "object_id                                                      786878   \n",
       "org_desc            <p>Since 1987, RUF has ministered to students ...   \n",
       "org_facebook                                                        0   \n",
       "org_name                                   RUF at Winthrop University   \n",
       "org_twitter                                                        12   \n",
       "payee_name                                                        RUF   \n",
       "payout_type                                                     CHECK   \n",
       "previous_payouts    [{u'name': u'RUF', u'created': u'2010-10-01 01...   \n",
       "sale_duration                                                      28   \n",
       "sale_duration2                                                     28   \n",
       "show_map                                                            0   \n",
       "ticket_types        [{u'event_id': 786878, u'cost': 35.0, u'availa...   \n",
       "user_age                                                          149   \n",
       "user_created                                               1280942776   \n",
       "user_type                                                           3   \n",
       "venue_address                                                           \n",
       "venue_country                                                      US   \n",
       "venue_latitude                                                32.7766   \n",
       "venue_longitude                                              -79.9309   \n",
       "venue_name                                    The Charleston, SC area   \n",
       "venue_state                                                        SC   \n",
       "\n",
       "                                                                    2  \n",
       "acct_type                                                     premium  \n",
       "approx_payout_date                                         1296172800  \n",
       "body_length                                                      2601  \n",
       "channels                                                            8  \n",
       "country                                                            US  \n",
       "currency                                                          USD  \n",
       "delivery_method                                                     1  \n",
       "description         <h3><span class=\"subcategory\"><strong>Teacher ...  \n",
       "email_domain                                           pvsd.k12.ca.us  \n",
       "event_created                                              1291090956  \n",
       "event_end                                                  1295740800  \n",
       "event_published                                           1.29109e+09  \n",
       "event_start                                                1295713800  \n",
       "fb_published                                                        0  \n",
       "gts                                                              3500  \n",
       "has_analytics                                                       0  \n",
       "has_header                                                        NaN  \n",
       "has_logo                                                            0  \n",
       "listed                                                              y  \n",
       "name                                     DRDP (2010) Teacher Training  \n",
       "name_length                                                        28  \n",
       "num_order                                                          19  \n",
       "num_payouts                                                         4  \n",
       "object_id                                                      787337  \n",
       "org_desc            <p><a href=\"http://www.desiredresults.com\">www...  \n",
       "org_facebook                                                        0  \n",
       "org_name            University Preparation School in collaboration...  \n",
       "org_twitter                                                         0  \n",
       "payee_name                              University Preparation School  \n",
       "payout_type                                                     CHECK  \n",
       "previous_payouts    [{u'name': u'Danielle Severn', u'created': u'2...  \n",
       "sale_duration                                                      54  \n",
       "sale_duration2                                                     54  \n",
       "show_map                                                            0  \n",
       "ticket_types        [{u'event_id': 787337, u'cost': 93.51, u'avail...  \n",
       "user_age                                                          214  \n",
       "user_created                                               1272559388  \n",
       "user_type                                                           3  \n",
       "venue_address                            10100 Pioneer Blvd Suite 100  \n",
       "venue_country                                                      US  \n",
       "venue_latitude                                                33.9442  \n",
       "venue_longitude                                               -118.08  \n",
       "venue_name                     Los Angeles County Office of Education  \n",
       "venue_state                                                        CA  "
      ]
     },
     "execution_count": 41,
     "metadata": {},
     "output_type": "execute_result"
    }
   ],
   "source": [
    "df.head(3).T"
   ]
  },
  {
   "cell_type": "code",
   "execution_count": 70,
   "metadata": {
    "collapsed": false
   },
   "outputs": [
    {
     "data": {
      "text/plain": [
       "acct_type\n",
       "premium             2988\n",
       "spammer_limited       47\n",
       "spammer_warn          38\n",
       "tos_warn              33\n",
       "spammer_noinvite      29\n",
       "fraudster_event       20\n",
       "fraudster             10\n",
       "locked                 9\n",
       "tos_lock               3\n",
       "Name: description, dtype: int64"
      ]
     },
     "execution_count": 70,
     "metadata": {},
     "output_type": "execute_result"
    }
   ],
   "source": [
    "df[[len(x) >= 1 for x in df.payee_name]].groupby(\"acct_type\").count()['description'].sort_values(ascending=False)"
   ]
  },
  {
   "cell_type": "code",
   "execution_count": 72,
   "metadata": {
    "collapsed": false
   },
   "outputs": [
    {
     "data": {
      "text/plain": [
       "<bound method Series.max of 0            0.00\n",
       "1          868.02\n",
       "2         3500.00\n",
       "3         1167.35\n",
       "4         2313.15\n",
       "5          302.57\n",
       "6          832.64\n",
       "7          220.64\n",
       "8         3706.36\n",
       "9          535.84\n",
       "10         750.00\n",
       "11         685.44\n",
       "12         178.00\n",
       "13         833.14\n",
       "14        1038.56\n",
       "15        2723.44\n",
       "16        2146.44\n",
       "17          34.62\n",
       "18        1996.00\n",
       "19       14424.18\n",
       "20        3855.28\n",
       "21         106.49\n",
       "22         268.70\n",
       "23         132.00\n",
       "24        1326.48\n",
       "25         107.48\n",
       "26         634.98\n",
       "27        5860.00\n",
       "28       10438.00\n",
       "29        1485.14\n",
       "           ...   \n",
       "14307      154.00\n",
       "14308    16615.46\n",
       "14309     4709.83\n",
       "14310       16.82\n",
       "14311      460.00\n",
       "14312     2709.86\n",
       "14313     1020.00\n",
       "14314     1272.08\n",
       "14315      115.72\n",
       "14316    12319.15\n",
       "14317      143.56\n",
       "14318      472.16\n",
       "14319      750.00\n",
       "14320       18.98\n",
       "14321      618.94\n",
       "14322       35.00\n",
       "14323      203.71\n",
       "14324      385.50\n",
       "14325        0.00\n",
       "14326      102.72\n",
       "14327     1405.00\n",
       "14328       22.86\n",
       "14329       23.38\n",
       "14330       40.00\n",
       "14331     4950.00\n",
       "14332        0.00\n",
       "14333     9626.30\n",
       "14334       22.09\n",
       "14335      170.00\n",
       "14336      901.04\n",
       "Name: gts, dtype: float64>"
      ]
     },
     "execution_count": 72,
     "metadata": {},
     "output_type": "execute_result"
    }
   ],
   "source": [
    "df.gts.max\n",
    "# Gross ticket sales"
   ]
  },
  {
   "cell_type": "code",
   "execution_count": 88,
   "metadata": {
    "collapsed": false
   },
   "outputs": [
    {
     "data": {
      "text/plain": [
       "acct_type\n",
       "premium             2592\n",
       "fraudster_event      234\n",
       "fraudster            108\n",
       "spammer_limited       52\n",
       "spammer_warn          31\n",
       "spammer_noinvite      28\n",
       "tos_warn              22\n",
       "locked                18\n",
       "tos_lock               9\n",
       "fraudster_att          3\n",
       "Name: gts, dtype: int64"
      ]
     },
     "execution_count": 88,
     "metadata": {},
     "output_type": "execute_result"
    }
   ],
   "source": [
    "df[df.email_domain == 'gmail.com'].groupby(['acct_type']).count()['gts'].sort_values(ascending=False)"
   ]
  },
  {
   "cell_type": "code",
   "execution_count": 92,
   "metadata": {
    "collapsed": false
   },
   "outputs": [
    {
     "data": {
      "text/plain": [
       "email_domain\n",
       "gmail.com                   3097\n",
       "yahoo.com                    792\n",
       "hotmail.com                  399\n",
       "aol.com                      198\n",
       "live.com                      80\n",
       "me.com                        75\n",
       "ymail.com                     68\n",
       "comcast.net                   60\n",
       "generalassemb.ly              58\n",
       "yahoo.co.uk                   52\n",
       "kineticevents.com             52\n",
       "hotmail.co.uk                 48\n",
       "improvboston.com              46\n",
       "sippingnpainting.com          39\n",
       "claytonislandtours.com        37\n",
       "lidf.co.uk                    35\n",
       "racetonowhere.com             35\n",
       "live.fr                       33\n",
       "greatworldadventures.com      31\n",
       "yahoo.ca                      31\n",
       "shaw.ca                       28\n",
       "sbcglobal.net                 26\n",
       "msn.com                       25\n",
       "mac.com                       25\n",
       "live.co.uk                    24\n",
       "guardian.co.uk                24\n",
       "joonbug.com                   23\n",
       "rocketmail.com                23\n",
       "jhilburn.com                  21\n",
       "yahoo.fr                      21\n",
       "                            ... \n",
       "ocapica.org                    1\n",
       "oceanstylemagazine.com         1\n",
       "ntmediagroup.com               1\n",
       "ocic.on.ca                     1\n",
       "octaneoc.org                   1\n",
       "octhrowdown.com                1\n",
       "odanadi-us.org                 1\n",
       "odaustralia.org                1\n",
       "odu.edu                        1\n",
       "odyssey-i.com                  1\n",
       "nzwealthmentor.com             1\n",
       "nzsa.org.nz                    1\n",
       "nzcsi.org                      1\n",
       "nywict.org                     1\n",
       "nude-in-nature.com             1\n",
       "nutrie.com                     1\n",
       "nuvo.net                       1\n",
       "nwc.co                         1\n",
       "nwcave.org                     1\n",
       "nwsb.com.au                    1\n",
       "nwscdc.org                     1\n",
       "nxlevelent.com                 1\n",
       "nxtteam.com                    1\n",
       "nyasla.org                     1\n",
       "nycfoodfilmfestival.com        1\n",
       "nymaz.org.uk                   1\n",
       "nyp.org                        1\n",
       "nysec.org                      1\n",
       "nyue.org                       1\n",
       "lincolncollege.ac.uk           1\n",
       "Name: gts, dtype: int64"
      ]
     },
     "execution_count": 92,
     "metadata": {},
     "output_type": "execute_result"
    }
   ],
   "source": [
    "df.groupby(['email_domain']).count()['gts'].sort_values(ascending=False)"
   ]
  },
  {
   "cell_type": "code",
   "execution_count": 96,
   "metadata": {
    "collapsed": false
   },
   "outputs": [
    {
     "data": {
      "text/plain": [
       "(array([  1.11100000e+04,   1.73600000e+03,   6.29000000e+02,\n",
       "          3.57000000e+02,   1.46000000e+02,   9.10000000e+01,\n",
       "          7.60000000e+01,   2.70000000e+01,   3.20000000e+01,\n",
       "          1.40000000e+01,   1.20000000e+01,   4.00000000e+00,\n",
       "          1.60000000e+01,   6.00000000e+00,   4.00000000e+00,\n",
       "          4.00000000e+00,   1.00000000e+00,   3.00000000e+00,\n",
       "          2.00000000e+00,   1.00000000e+00,   1.00000000e+00,\n",
       "          0.00000000e+00,   0.00000000e+00,   0.00000000e+00,\n",
       "          0.00000000e+00,   3.00000000e+00,   1.00000000e+00,\n",
       "          1.00000000e+00,   1.40000000e+01,   8.00000000e+00,\n",
       "          3.00000000e+00,   1.50000000e+01,   3.00000000e+00,\n",
       "          3.00000000e+00,   0.00000000e+00,   0.00000000e+00,\n",
       "          0.00000000e+00,   0.00000000e+00,   0.00000000e+00,\n",
       "          0.00000000e+00,   0.00000000e+00,   1.00000000e+00,\n",
       "          0.00000000e+00,   0.00000000e+00,   0.00000000e+00,\n",
       "          0.00000000e+00,   0.00000000e+00,   0.00000000e+00,\n",
       "          0.00000000e+00,   0.00000000e+00,   0.00000000e+00,\n",
       "          0.00000000e+00,   0.00000000e+00,   0.00000000e+00,\n",
       "          1.00000000e+00,   0.00000000e+00,   0.00000000e+00,\n",
       "          1.00000000e+00,   1.00000000e+00,   1.00000000e+00,\n",
       "          0.00000000e+00,   0.00000000e+00,   0.00000000e+00,\n",
       "          0.00000000e+00,   0.00000000e+00,   0.00000000e+00,\n",
       "          0.00000000e+00,   1.00000000e+00,   0.00000000e+00,\n",
       "          0.00000000e+00,   0.00000000e+00,   0.00000000e+00,\n",
       "          0.00000000e+00,   0.00000000e+00,   0.00000000e+00,\n",
       "          0.00000000e+00,   0.00000000e+00,   0.00000000e+00,\n",
       "          0.00000000e+00,   0.00000000e+00,   0.00000000e+00,\n",
       "          3.00000000e+00,   0.00000000e+00,   1.00000000e+00,\n",
       "          0.00000000e+00,   1.00000000e+00,   0.00000000e+00,\n",
       "          0.00000000e+00,   0.00000000e+00,   0.00000000e+00,\n",
       "          0.00000000e+00,   0.00000000e+00,   0.00000000e+00,\n",
       "          0.00000000e+00,   1.00000000e+00,   0.00000000e+00,\n",
       "          0.00000000e+00,   0.00000000e+00,   0.00000000e+00,\n",
       "          2.00000000e+00]),\n",
       " array([     0.  ,    655.35,   1310.7 ,   1966.05,   2621.4 ,   3276.75,\n",
       "          3932.1 ,   4587.45,   5242.8 ,   5898.15,   6553.5 ,   7208.85,\n",
       "          7864.2 ,   8519.55,   9174.9 ,   9830.25,  10485.6 ,  11140.95,\n",
       "         11796.3 ,  12451.65,  13107.  ,  13762.35,  14417.7 ,  15073.05,\n",
       "         15728.4 ,  16383.75,  17039.1 ,  17694.45,  18349.8 ,  19005.15,\n",
       "         19660.5 ,  20315.85,  20971.2 ,  21626.55,  22281.9 ,  22937.25,\n",
       "         23592.6 ,  24247.95,  24903.3 ,  25558.65,  26214.  ,  26869.35,\n",
       "         27524.7 ,  28180.05,  28835.4 ,  29490.75,  30146.1 ,  30801.45,\n",
       "         31456.8 ,  32112.15,  32767.5 ,  33422.85,  34078.2 ,  34733.55,\n",
       "         35388.9 ,  36044.25,  36699.6 ,  37354.95,  38010.3 ,  38665.65,\n",
       "         39321.  ,  39976.35,  40631.7 ,  41287.05,  41942.4 ,  42597.75,\n",
       "         43253.1 ,  43908.45,  44563.8 ,  45219.15,  45874.5 ,  46529.85,\n",
       "         47185.2 ,  47840.55,  48495.9 ,  49151.25,  49806.6 ,  50461.95,\n",
       "         51117.3 ,  51772.65,  52428.  ,  53083.35,  53738.7 ,  54394.05,\n",
       "         55049.4 ,  55704.75,  56360.1 ,  57015.45,  57670.8 ,  58326.15,\n",
       "         58981.5 ,  59636.85,  60292.2 ,  60947.55,  61602.9 ,  62258.25,\n",
       "         62913.6 ,  63568.95,  64224.3 ,  64879.65,  65535.  ]),\n",
       " <a list of 100 Patch objects>)"
      ]
     },
     "execution_count": 96,
     "metadata": {},
     "output_type": "execute_result"
    },
    {
     "data": {
      "image/png": "[encoded data removed]",
      "text/plain": [
       "<matplotlib.figure.Figure at 0x111f51ad0>"
      ]
     },
     "metadata": {},
     "output_type": "display_data"
    }
   ],
   "source": [
    "plt.hist([len(x) for x in df.org_desc],bins=100)"
   ]
  },
  {
   "cell_type": "code",
   "execution_count": 97,
   "metadata": {
    "collapsed": false
   },
   "outputs": [
    {
     "data": {
      "text/plain": [
       "u'<p><a href=\"http://s432.photobucket.com/albums/qq49/digusonline/?action=view&amp;current=supersunday.jpg\" target=\"_blank\"><img src=\"http://i432.photobucket.com/albums/qq49/digusonline/supersunday.jpg\" border=\"0\" alt=\"Photobucket\" /></a></p>\\r\\n<p>\\xa0</p>\\r\\n<p style=\"text-align: center;\"><font size=\"3\"><strong>Party Starz Entertaintment &amp; Diverse International Group Presents...<br /></strong></font><br /><font face=\"tahoma,arial,helvetica,sans-serif\" size=\"4\"><strong>The Official\\xa0\"99 Hour No Sleep\" Super Bowl </strong></font></p>\\r\\n<p style=\"text-align: center;\"><font face=\"tahoma,arial,helvetica,sans-serif\" size=\"4\"><strong>Weekend </strong></font><font face=\"tahoma,arial,helvetica,sans-serif\" size=\"4\"><strong>Grand Finale</strong></font></p>\\r\\n<p><br /><span style=\"font-family: Times New Roman,serif;\"><font size=\"3\"><font face=\"tahoma,arial,helvetica,sans-serif\">No matter who wins or loses, this post-game party cannot be missed! Enjoy the drink specials and all night music!<strong>\\xa0</strong></font></font><span style=\"font-family: Times New Roman,serif;\"><font face=\"tahoma,arial,helvetica,sans-serif\" size=\"3\">The ultimate \"99 No Sleep\"\\xa0Super Bowl Weekend Grand Finale! Sunday, February 7th, 2010 @ Ink Nightclub-South Beach (717 Washington Ave, Miami Bch, FL 33139).</font></span></span></p>\\r\\n<p><span style=\"font-family: Times New Roman,serif;\"><span style=\"font-family: Times New Roman,serif;\"><font face=\"tahoma,arial,helvetica,sans-serif\" size=\"3\">Hosted by 99 Jamz with special appearances by Fast Life Youngstaz. Special invited guests: Billy Blue, Dorrough and Brisco and with performances by various artist\\'s and many many more at South Beach\\xa0Miami\\'s finest venue! This is a party you have to see to believe! This is everyone\\'s last chance to make that impression, so don\\'t\\xa0half-step, bring your \"A\" game\\xa0and party with\\xa0all of the hottest artists, celebrities, models and superstar athletes that are guaranteed to be in the building!</font></span></span></p>\\r\\n<p><span style=\"font-family: Times New Roman,serif;\"><font size=\"3\"><span style=\"font-family: Times New Roman,serif;\"><font face=\"tahoma,arial,helvetica,sans-serif\">DJ Q &amp; DJ Slym will ber keepig the party jumping til the sun comes up with the hottest Hip-Hop, R&amp;B, Reggae, Old School and more. </font></span></font></span></p>\\r\\n<p><span style=\"font-family: Times New Roman,serif;\"><font size=\"3\"><span style=\"font-family: Times New Roman,serif;\"><font face=\"tahoma,arial,helvetica,sans-serif\">Doors open @ 10pm. Ladies are 18+ and 21+ for Gents. 2-4-1 drinks until 1am, plus the best bottle specials ALL NIGHT LONG!!! We\\'re offering\\xa0Super Bowl game ticket stub discounts all night!</font></span></font></span></p>\\r\\n<p><span style=\"font-family: Times New Roman,serif;\"><font size=\"3\"><span style=\"font-family: Times New Roman,serif;\"><font face=\"tahoma,arial,helvetica,sans-serif\">Dress code is\\xa0enforced, but it\\'s not what you wear but how you wear it!\\xa0All-Night Drink Specials! For more information\\xa0&amp; table reservations email</font></span></font></span><span style=\"font-family: Times New Roman,serif;\"><font size=\"3\"><span style=\"font-family: Times New Roman,serif;\"><font face=\"tahoma,arial,helvetica,sans-serif\">: <a href=\"mailto:99hrnosleepweekend@gmail.com\">99hrnosleepweekend@gmail.com</a> or 305.742.4880.</font></span></font></span></p>\\r\\n<p><span style=\"font-family: Times New Roman,serif;\"></span></p>\\r\\n<p>\\xa0</p>\\r\\n<p style=\"text-align: center;\"><span style=\"font-family: Times New Roman,serif;\"><font size=\"3\"><span style=\"font-family: Times New Roman,serif;\"><font face=\"tahoma,arial,helvetica,sans-serif\">This is a 99 Hour No Sleep Celebrity Super Bowl Weekend event! <a \\r\\n<p>\\xa0</p>'"
      ]
     },
     "execution_count": 97,
     "metadata": {},
     "output_type": "execute_result"
    }
   ],
   "source": [
    "df.ix[0].description"
   ]
  },
  {
   "cell_type": "code",
   "execution_count": 100,
   "metadata": {
    "collapsed": false
   },
   "outputs": [
    {
     "data": {
      "text/plain": [
       "0       2009-11-30 20:45:50\n",
       "1       2010-08-04 17:26:16\n",
       "2       2010-04-29 16:43:08\n",
       "3       2010-09-07 14:35:02\n",
       "4       2010-11-05 19:07:45\n",
       "5       2010-03-14 15:05:10\n",
       "6       2009-01-31 21:39:11\n",
       "7       2010-10-28 14:28:23\n",
       "8       2011-01-07 19:22:01\n",
       "9       2010-10-28 14:28:23\n",
       "10      2009-01-08 17:43:32\n",
       "11      2009-11-14 06:37:44\n",
       "12      2008-11-04 11:57:00\n",
       "13      2009-10-18 09:16:01\n",
       "14      2010-07-13 18:34:35\n",
       "15      2010-01-28 20:13:54\n",
       "16      2010-01-28 20:13:54\n",
       "17      2011-02-12 03:04:26\n",
       "18      2009-03-04 15:00:30\n",
       "19      2011-02-12 00:24:02\n",
       "20      2011-02-12 09:13:01\n",
       "21      2010-01-26 06:28:00\n",
       "22      2009-11-30 17:43:39\n",
       "23      2009-12-02 20:34:19\n",
       "24      2010-11-12 17:56:44\n",
       "25      2009-09-12 04:18:43\n",
       "26      2011-01-21 02:26:17\n",
       "27      2010-06-30 15:54:05\n",
       "28      2010-07-14 19:47:32\n",
       "29      2008-12-08 04:52:16\n",
       "                ...        \n",
       "14307   2011-06-22 21:25:54\n",
       "14308   2012-01-19 07:46:05\n",
       "14309   2012-02-10 10:13:36\n",
       "14310   2012-12-13 22:27:19\n",
       "14311   2013-01-16 23:20:26\n",
       "14312   2013-01-15 19:12:09\n",
       "14313   2011-06-21 23:40:12\n",
       "14314   2010-11-18 11:50:59\n",
       "14315   2012-03-19 12:04:53\n",
       "14316   2013-01-23 13:44:08\n",
       "14317   2011-01-09 23:19:33\n",
       "14318   2013-01-23 21:07:56\n",
       "14319   2012-01-23 14:09:10\n",
       "14320   2013-01-25 11:52:17\n",
       "14321   2010-01-27 23:42:00\n",
       "14322   2013-01-26 20:35:44\n",
       "14323   2012-07-12 09:43:58\n",
       "14324   2012-06-11 19:28:27\n",
       "14325   2013-01-28 23:30:20\n",
       "14326   2013-01-27 19:13:35\n",
       "14327   2011-12-27 21:03:18\n",
       "14328   2011-01-15 18:52:48\n",
       "14329   2011-01-15 18:52:48\n",
       "14330   2011-06-14 19:37:33\n",
       "14331   2012-12-06 16:15:26\n",
       "14332   2013-02-08 04:33:13\n",
       "14333   2009-05-06 15:55:46\n",
       "14334   2012-11-20 04:49:31\n",
       "14335   2010-11-19 22:16:31\n",
       "14336   2013-02-12 16:34:05\n",
       "Name: user_created, dtype: datetime64[ns]"
      ]
     },
     "execution_count": 100,
     "metadata": {},
     "output_type": "execute_result"
    }
   ],
   "source": [
    "field = 'user_created'\n",
    "pd.to_datetime(df[field],unit='s') "
   ]
  },
  {
   "cell_type": "code",
   "execution_count": 105,
   "metadata": {
    "collapsed": false
   },
   "outputs": [
    {
     "name": "stdout",
     "output_type": "stream",
     "text": [
      "<class 'pandas.core.frame.DataFrame'>\n",
      "Int64Index: 14337 entries, 0 to 14336\n",
      "Data columns (total 6 columns):\n",
      "approx_payout_date    14337 non-null int64\n",
      "event_created         14337 non-null int64\n",
      "event_end             14337 non-null int64\n",
      "event_published       14238 non-null float64\n",
      "event_start           14337 non-null int64\n",
      "user_created          14337 non-null int64\n",
      "dtypes: float64(1), int64(5)\n",
      "memory usage: 784.1 KB\n"
     ]
    }
   ],
   "source": [
    "    date_fields = ['approx_payout_date',\n",
    "                    'event_created',\n",
    "                    'event_end',\n",
    "                    'event_published',\n",
    "                    'event_start',\n",
    "                    'user_created']\n",
    "df[date_fields].info()"
   ]
  },
  {
   "cell_type": "code",
   "execution_count": 106,
   "metadata": {
    "collapsed": false
   },
   "outputs": [
    {
     "data": {
      "text/plain": [
       "1381608321.0"
      ]
     },
     "execution_count": 106,
     "metadata": {},
     "output_type": "execute_result"
    }
   ],
   "source": [
    "df.event_published.max()"
   ]
  },
  {
   "cell_type": "code",
   "execution_count": 107,
   "metadata": {
    "collapsed": false
   },
   "outputs": [
    {
     "data": {
      "text/plain": [
       "0.0"
      ]
     },
     "execution_count": 107,
     "metadata": {},
     "output_type": "execute_result"
    }
   ],
   "source": [
    "df.event_published.min()"
   ]
  },
  {
   "cell_type": "code",
   "execution_count": 108,
   "metadata": {
    "collapsed": false
   },
   "outputs": [
    {
     "data": {
      "text/plain": [
       "1340853730.833474"
      ]
     },
     "execution_count": 108,
     "metadata": {},
     "output_type": "execute_result"
    }
   ],
   "source": [
    "df.event_published.mean()"
   ]
  },
  {
   "cell_type": "code",
   "execution_count": 123,
   "metadata": {
    "collapsed": false
   },
   "outputs": [
    {
     "data": {
      "text/plain": [
       "753"
      ]
     },
     "execution_count": 123,
     "metadata": {},
     "output_type": "execute_result"
    }
   ],
   "source": [
    "len(df.event_published[df.event_published < 1300000000])"
   ]
  },
  {
   "cell_type": "code",
   "execution_count": null,
   "metadata": {
    "collapsed": true
   },
   "outputs": [],
   "source": []
  }
 ],
 "metadata": {
  "kernelspec": {
   "display_name": "Python [conda root]",
   "language": "python",
   "name": "conda-root-py"
  },
  "language_info": {
   "codemirror_mode": {
    "name": "ipython",
    "version": 2
   },
   "file_extension": ".py",
   "mimetype": "text/x-python",
   "name": "python",
   "nbconvert_exporter": "python",
   "pygments_lexer": "ipython2",
   "version": "2.7.13"
  }
 },
 "nbformat": 4,
 "nbformat_minor": 2
}
